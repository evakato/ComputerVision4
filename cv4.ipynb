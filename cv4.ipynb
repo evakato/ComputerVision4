{
  "cells": [
    {
      "cell_type": "markdown",
      "metadata": {
        "colab_type": "text",
        "id": "view-in-github"
      },
      "source": [
        "<a href=\"https://colab.research.google.com/github/evakato/ComputerVision4/blob/main/cv4.ipynb\" target=\"_parent\"><img src=\"https://colab.research.google.com/assets/colab-badge.svg\" alt=\"Open In Colab\"/></a>"
      ]
    },
    {
      "cell_type": "code",
      "execution_count": 2,
      "metadata": {},
      "outputs": [
        {
          "name": "stdout",
          "output_type": "stream",
          "text": [
            "Using cpu device\n"
          ]
        }
      ],
      "source": [
        "import torch\n",
        "device = (\n",
        "    #Nvidia GPU\n",
        "    \"cuda\" \n",
        "    if torch.cuda.is_available()\n",
        "    #Apple GPU\n",
        "    else \"mps\"\n",
        "    if torch.backends.mps.is_available()\n",
        "    #Other\n",
        "    else \"cpu\"\n",
        ")\n",
        "print(f\"Using {device} device\")"
      ]
    },
    {
      "cell_type": "markdown",
      "metadata": {
        "id": "VIpBlt59Tmmv"
      },
      "source": [
        "1. Import the Fashion MNIST dataset including the data labels. This would import two sets (training set and test set). Create a third set (validation set) by splitting the training set into two (training set and validation set) for validation purposes. Decide what a good ratio of training/validation is, and motivate your choice. You should use the validation set to evaluate the different choices you make when building your CNNs. Keep in mind that the test set will only be used at the very final stage and will not be included in the validation step."
      ]
    },
    {
      "cell_type": "code",
      "execution_count": 3,
      "metadata": {
        "colab": {
          "base_uri": "https://localhost:8080/"
        },
        "id": "Xhn0qdxVSyW0",
        "outputId": "27fd0d63-e3b0-468b-d6d1-40f0ece51573"
      },
      "outputs": [],
      "source": [
        "from torchvision.transforms import ToTensor\n",
        "from torchvision import datasets\n",
        "from torch.utils.data import DataLoader, random_split\n",
        "from matplotlib import pyplot as plt\n",
        "\n",
        "#NOTE: data is not normalised yet\n",
        "train_data = datasets.FashionMNIST('Data', download=True, train=True, transform=ToTensor())\n",
        "test_data = datasets.FashionMNIST('Data', download=True, train=False, transform=ToTensor())\n",
        "\n",
        "splitlength = [50000,10000] \n",
        "#NOTE: This needs to be changed to be calculated using a percentage if we are going to have variable data lenghts (due to e.g. data augmentation)\n",
        "train_data, val_data = random_split(train_data, splitlength)\n",
        "\n",
        "batch_size = 32\n",
        "train_dataloader = DataLoader(train_data, batch_size, shuffle=True)\n",
        "val_dataloader = DataLoader(val_data, batch_size, shuffle=True)\n",
        "test_dataloader = DataLoader(test_data, batch_size, shuffle=True)"
      ]
    },
    {
      "cell_type": "code",
      "execution_count": 4,
      "metadata": {},
      "outputs": [
        {
          "name": "stdout",
          "output_type": "stream",
          "text": [
            "torch.Size([1, 28, 28]) 7\n"
          ]
        },
        {
          "data": {
            "text/plain": [
              "<matplotlib.image.AxesImage at 0x1712f61dcd0>"
            ]
          },
          "execution_count": 4,
          "metadata": {},
          "output_type": "execute_result"
        },
        {
          "data": {
            "image/png": "[encoded data removed]",
            "text/plain": [
              "<Figure size 640x480 with 1 Axes>"
            ]
          },
          "metadata": {},
          "output_type": "display_data"
        }
      ],
      "source": [
        "image, label = train_data[0]\n",
        "print(image.shape, label)\n",
        "plt.imshow(image[0], cmap = 'gray')"
      ]
    },
    {
      "cell_type": "markdown",
      "metadata": {
        "id": "OFGPmPXTT5i1"
      },
      "source": [
        "2. Recreate the LeNet-5 architecture as your baseline. The model takes as input a greyscale image of size 28x28x1 and has 10 outputs, one for each class. Make sure all parameters (number of neurons, number and size of kernels) is the same as in the original architecture. You may assume that no zero-padding was applied. The model is trained using cross-entropy loss, Adam optimizer with a learning rate of 0.001. Use torch.nn.init.kaiming_uniform to initialize your weights. Use a batch size of 32, unless your hardware doesn't allow you to. Then reduce the size accordingly.\n"
      ]
    },
    {
      "cell_type": "code",
      "execution_count": 5,
      "metadata": {
        "colab": {
          "base_uri": "https://localhost:8080/"
        },
        "id": "6BnWpAn0T9XS",
        "outputId": "10a5e100-58b6-4c30-eceb-94a405d5f53f"
      },
      "outputs": [],
      "source": [
        "import torch\n",
        "import torch.nn as nn\n",
        "import torch.nn.functional as F\n",
        "import torch.optim as optim\n",
        "from torch.nn.init import kaiming_uniform_, zeros_\n",
        "\n",
        "class LeNet5(nn.Module):\n",
        "    def __init__(self):\n",
        "        super(LeNet5, self).__init__()\n",
        "        # Convolutional and pooling layers\n",
        "        self.conv = nn.Sequential(\n",
        "            nn.Conv2d(in_channels=1, out_channels=6, kernel_size=5),  # 1 input channel, 6 output channels, 5x5 kernel\n",
        "            nn.ReLU(),\n",
        "            nn.AvgPool2d(kernel_size=2, stride=2),\n",
        "            nn.Conv2d(in_channels=6, out_channels=16, kernel_size=5), # 6 input channels, 16 output channels, 5x5 kernel\n",
        "            nn.ReLU(),\n",
        "            nn.AvgPool2d(kernel_size=2, stride=2),\n",
        "        )\n",
        "        # Fully connected layers\n",
        "        self.dense = nn.Sequential(\n",
        "            nn.Flatten(),\n",
        "            nn.Linear(16 * 4 * 4, 120),  # 16 channels, 4x4 feature map size \n",
        "            #NOTE: isn't this supposed to be 16*5*5?\n",
        "            nn.ReLU(),\n",
        "            nn.Linear(120, 84),\n",
        "            nn.ReLU(),\n",
        "            nn.Linear(84, 10),  # 10 output classes\n",
        "        )\n",
        "\n",
        "        self.apply(self.weights_init)\n",
        "    \n",
        "    def forward(self, x):\n",
        "        # Convolutional layers with ReLU activation and max pooling\n",
        "        x = self.conv(x)\n",
        "        # Fully connected layers with ReLU activation\n",
        "        y = self.dense(x)\n",
        "        return y\n",
        "\n",
        "    def weights_init(self, m):\n",
        "        if isinstance(m, nn.Conv2d):\n",
        "            torch.nn.init.kaiming_uniform_(m.weight)\n",
        "            torch.nn.init.zeros_(m.bias)\n",
        "        if isinstance(m, nn.Linear):\n",
        "            torch.nn.init.kaiming_uniform_(m.weight)\n",
        "            torch.nn.init.zeros_(m.bias)"
      ]
    },
    {
      "cell_type": "code",
      "execution_count": 6,
      "metadata": {},
      "outputs": [
        {
          "name": "stdout",
          "output_type": "stream",
          "text": [
            "--------------------------------------------------------------------------\n",
            "Layer (type)                            Output Shape              Param #\n",
            "==========================================================================\n",
            "Conv2d-1                             [-1, 6, 24, 24]                  156\n",
            "ReLU-2                               [-1, 6, 24, 24]                    0\n",
            "AvgPool2d-3                          [-1, 6, 12, 12]                    0\n",
            "Conv2d-4                              [-1, 16, 8, 8]                2,416\n",
            "ReLU-5                                [-1, 16, 8, 8]                    0\n",
            "AvgPool2d-6                           [-1, 16, 4, 4]                    0\n",
            "Flatten-7                                  [-1, 256]                    0\n",
            "Linear-8                                   [-1, 120]               30,840\n",
            "ReLU-9                                     [-1, 120]                    0\n",
            "Linear-10                                   [-1, 84]               10,164\n",
            "ReLU-11                                     [-1, 84]                    0\n",
            "Linear-12                                   [-1, 10]                  850\n",
            "==========================================================================\n",
            "Total params: 44,426\n",
            "Trainable params: 44,426\n",
            "Non-trainable params: 0\n",
            "--------------------------------------------------------------------------\n",
            "Input size (MB): 0.002991\n",
            "Forward/backward pass size (MB): 0.082047\n",
            "Params size (MB): 0.169472\n",
            "Estimated Total Size (MB): 0.254509\n",
            "--------------------------------------------------------------------------\n"
          ]
        }
      ],
      "source": [
        "from torchkeras import summary\n",
        "\n",
        "model = LeNet5()\n",
        "\n",
        "def check_weights():\n",
        "    for param in model.parameters():\n",
        "        print(param.data)\n",
        "\n",
        "def summarize(model):\n",
        "    summary(model=model, input_shape=(1,28,28))\n",
        "\n",
        "summarize(model)\n"
      ]
    },
    {
      "cell_type": "code",
      "execution_count": 27,
      "metadata": {},
      "outputs": [],
      "source": [
        "from tqdm import tqdm\n",
        "import numpy as np\n",
        "from sklearn.metrics import accuracy_score, precision_recall_fscore_support\n",
        "\n",
        "def train(loader, model, criterion, optimizer):\n",
        "    size = len(loader.dataset)\n",
        "    batches = len(loader)\n",
        "    model.train()\n",
        "    loss_list = []\n",
        "    total_loss = 0\n",
        "\n",
        "    for n, batch in enumerate(tqdm(loader)):\n",
        "        X,y = batch\n",
        "        optimizer.zero_grad()\n",
        "        \n",
        "        pred = model(X)\n",
        "        loss = criterion(pred, y)\n",
        "\n",
        "        loss.backward()\n",
        "        optimizer.step()\n",
        "\n",
        "def test(loader, model, criterion):\n",
        "    size = len(loader.dataset)\n",
        "    batches = len(loader)\n",
        "    total_loss = 0\n",
        "    y_pred = []\n",
        "    y_true = []\n",
        "\n",
        "    with torch.no_grad():\n",
        "        for batch in loader:\n",
        "            X,y = batch\n",
        "            pred = model(X)\n",
        "            \n",
        "            loss = criterion(pred, y)\n",
        "            total_loss += loss.item()\n",
        "\n",
        "            y = y.data.numpy()\n",
        "            y_true.extend(y)\n",
        "            pred = pred.argmax(1).data.numpy()\n",
        "            y_pred.extend(pred)\n",
        "\n",
        "    loss = total_loss / batches\n",
        "    accuracy = accuracy_score(y_true, y_pred)\n",
        "\n",
        "    print(f\"loss: {loss}\\naccuracy: {accuracy}\")\n",
        "    return y_true, y_pred, loss\n",
        "        "
      ]
    },
    {
      "cell_type": "code",
      "execution_count": 31,
      "metadata": {},
      "outputs": [
        {
          "name": "stdout",
          "output_type": "stream",
          "text": [
            "Epoch 1\n",
            "----------------\n"
          ]
        },
        {
          "name": "stderr",
          "output_type": "stream",
          "text": [
            "100%|██████████| 1563/1563 [00:18<00:00, 85.13it/s]\n"
          ]
        },
        {
          "name": "stdout",
          "output_type": "stream",
          "text": [
            "loss: 0.40039424128205975\n",
            "accuracy: 0.8495\n",
            "loss: 0.39912003650071143\n",
            "accuracy: 0.8497\n",
            "0.40039424128205975 0.39912003650071143\n",
            "0.8495 0.8497\n",
            "----------------\n",
            "Epoch 2\n",
            "----------------\n"
          ]
        },
        {
          "name": "stderr",
          "output_type": "stream",
          "text": [
            "100%|██████████| 1563/1563 [00:22<00:00, 70.66it/s]\n"
          ]
        },
        {
          "name": "stdout",
          "output_type": "stream",
          "text": [
            "loss: 0.3602082645490775\n",
            "accuracy: 0.86804\n",
            "loss: 0.37283101768348925\n",
            "accuracy: 0.8697\n",
            "0.3602082645490775 0.37283101768348925\n",
            "0.86804 0.8697\n",
            "----------------\n",
            "Epoch 3\n",
            "----------------\n"
          ]
        },
        {
          "name": "stderr",
          "output_type": "stream",
          "text": [
            "100%|██████████| 1563/1563 [00:22<00:00, 70.80it/s]\n"
          ]
        },
        {
          "name": "stdout",
          "output_type": "stream",
          "text": [
            "loss: 0.3142600116425421\n",
            "accuracy: 0.88394\n",
            "loss: 0.33631268598305913\n",
            "accuracy: 0.8769\n",
            "0.3142600116425421 0.33631268598305913\n",
            "0.88394 0.8769\n",
            "----------------\n",
            "              precision    recall  f1-score   support\n",
            "\n",
            " T-shirt/top       0.87      0.77      0.82       991\n",
            "     Trouser       0.94      0.99      0.97      1013\n",
            "    Pullover       0.78      0.85      0.82       988\n",
            "       Dress       0.93      0.86      0.89       981\n",
            "        Coat       0.82      0.77      0.80      1002\n",
            "      Sandal       0.95      0.97      0.96       956\n",
            "       Shirt       0.65      0.72      0.68       997\n",
            "     Sneaker       0.97      0.88      0.92      1013\n",
            "         Bag       0.98      0.97      0.97      1034\n",
            "  Ankle Boot       0.91      0.98      0.94      1025\n",
            "\n",
            "    accuracy                           0.88     10000\n",
            "   macro avg       0.88      0.88      0.88     10000\n",
            "weighted avg       0.88      0.88      0.88     10000\n",
            "\n"
          ]
        },
        {
          "data": {
            "image/png": "[encoded data removed]",
            "text/plain": [
              "<Figure size 640x480 with 2 Axes>"
            ]
          },
          "metadata": {},
          "output_type": "display_data"
        }
      ],
      "source": [
        "from sklearn.metrics import confusion_matrix, classification_report\n",
        "import seaborn as sn\n",
        "import pandas as pd\n",
        "\n",
        "model = LeNet5()\n",
        "criterion = nn.CrossEntropyLoss()\n",
        "optimizer = optim.Adam(model.parameters(), lr=0.001)\n",
        "\n",
        "epochs = 3\n",
        "\n",
        "for i in range(epochs):\n",
        "    print(f\"Epoch {i+1}\\n----------------\")\n",
        "    \n",
        "    train(loader=train_dataloader, model=model, criterion=criterion, optimizer=optimizer)\n",
        "    \n",
        "    y_true_train, y_pred_train, loss_train = test(loader=train_dataloader, model=model, criterion=criterion)\n",
        "    y_true_test, y_pred_test, loss_test = test(loader=val_dataloader, model=model, criterion=criterion)\n",
        "\n",
        "    print(\"----------------\")\n",
        "\n",
        "classes = [\"T-shirt/top\", \"Trouser\", \"Pullover\", \"Dress\", \"Coat\", \"Sandal\", \"Shirt\", \"Sneaker\", \"Bag\", \"Ankle Boot\"]\n",
        "\n",
        "def evaluate(y_true, y_pred):\n",
        "    accuracy = accuracy_score(y_true, y_pred)\n",
        "    precision, recall, f1, support = precision_recall_fscore_support(y_true, y_pred)\n",
        "    conf_matrix = confusion_matrix(y_true, y_pred)\n",
        "    conf_matrix = pd.DataFrame(conf_matrix, classes, classes)\n",
        "    sn.heatmap(conf_matrix, annot=True, fmt= 'g')\n",
        "    cr = classification_report(y_true, y_pred, target_names=classes)\n",
        "    print(cr)\n",
        "\n",
        "#def plot_loss(train_loss, test_loss)\n",
        "\n",
        "evaluate(y_true_test,y_pred_test)"
      ]
    },
    {
      "cell_type": "markdown",
      "metadata": {
        "id": "K7m3tcJzWwOR"
      },
      "source": [
        "3. Now create four model variants. Each model may differ from the previous model by only one aspect, such that we can compare each pair of subsequent models pair-wise. An aspect should be a meaningful property, e.g., change the type of one layer (convolution --> pooling, etc.), add one layer, use dropout, change your activation function, change the number or size of your kernels, change the learning rate, etc. No use of any merging, attention, recurrent or locally-connected layers. Your variants should be aimed at getting a better performance. We keep the batch sizes fixed so choose a number and keep it constant for all models (including the baseline model)."
      ]
    },
    {
      "cell_type": "code",
      "execution_count": null,
      "metadata": {
        "id": "-05fnwZKWx_v"
      },
      "outputs": [],
      "source": [
        "'''\n",
        "options:\n",
        "\n",
        "Dropout\n",
        "Learning rate\n",
        "Activation function\n",
        "More/Less layers\n",
        "Pooling type\n",
        "Normalisation\n",
        "\n",
        "loss_fn/optimizer/weight init (I dont think this will do much)\n",
        "\n",
        "grid-search?\n",
        "'''"
      ]
    }
  ],
  "metadata": {
    "colab": {
      "authorship_tag": "ABX9TyPl8TpaC799+YwP0pwwQXva",
      "include_colab_link": true,
      "provenance": []
    },
    "kernelspec": {
      "display_name": "Python 3",
      "name": "python3"
    },
    "language_info": {
      "codemirror_mode": {
        "name": "ipython",
        "version": 3
      },
      "file_extension": ".py",
      "mimetype": "text/x-python",
      "name": "python",
      "nbconvert_exporter": "python",
      "pygments_lexer": "ipython3",
      "version": "3.11.8"
    }
  },
  "nbformat": 4,
  "nbformat_minor": 0
}
